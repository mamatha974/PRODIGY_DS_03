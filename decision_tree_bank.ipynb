{
  "nbformat": 4,
  "nbformat_minor": 0,
  "metadata": {
    "colab": {
      "provenance": []
    },
    "kernelspec": {
      "name": "python3",
      "display_name": "Python 3"
    },
    "language_info": {
      "name": "python"
    }
  },
  "cells": [
    {
      "cell_type": "code",
      "execution_count": 5,
      "metadata": {
        "colab": {
          "base_uri": "https://localhost:8080/"
        },
        "id": "qkIzJ9JiKETE",
        "outputId": "345c0fca-1ccd-40a1-fbfb-7a4aeea92bd0"
      },
      "outputs": [
        {
          "output_type": "stream",
          "name": "stdout",
          "text": [
            "Checking directory: .\n",
            "❌ No zip files found in any checked directory.\n",
            "\n",
            "All done!\n"
          ]
        }
      ],
      "source": [
        "import os\n",
        "import zipfile\n",
        "\n",
        "# Step 1: Define paths to check\n",
        "paths_to_check = [\"/mnt/data\", \".\"]  # /mnt/data for cloud environments, . for local or current directory\n",
        "zip_files = []\n",
        "\n",
        "# Step 2: Search for .zip files\n",
        "for path in paths_to_check:\n",
        "    if os.path.exists(path):\n",
        "        print(f\"Checking directory: {path}\")\n",
        "        files = os.listdir(path)\n",
        "        zip_files.extend([os.path.join(path, f) for f in files if f.endswith(\".zip\")])\n",
        "\n",
        "# Step 3: Handle no ZIP files found\n",
        "if not zip_files:\n",
        "    print(\"❌ No zip files found in any checked directory.\")\n",
        "else:\n",
        "    print(\"✅ Found zip files:\")\n",
        "    for z in zip_files:\n",
        "        print(f\"- {z}\")\n",
        "\n",
        "    # Step 4: Extract each ZIP file\n",
        "    for z in zip_files:\n",
        "        extract_dir = os.path.join(os.getcwd(), \"extracted_files\", os.path.splitext(os.path.basename(z))[0])\n",
        "        os.makedirs(extract_dir, exist_ok=True)\n",
        "\n",
        "        print(f\"\\n📦 Extracting: {z}\")\n",
        "        with zipfile.ZipFile(z, 'r') as zip_ref:\n",
        "            zip_ref.extractall(extract_dir)\n",
        "        print(f\"✅ Extracted to: {extract_dir}\")\n",
        "\n",
        "print(\"\\nAll done!\")\n"
      ]
    }
  ]
}